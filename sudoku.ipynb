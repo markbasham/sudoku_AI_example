{
  "nbformat": 4,
  "nbformat_minor": 0,
  "metadata": {
    "colab": {
      "provenance": [],
      "authorship_tag": "ABX9TyOO0r/U0hYPB4/WQcxcdh+H",
      "include_colab_link": true
    },
    "kernelspec": {
      "name": "python3",
      "display_name": "Python 3"
    },
    "language_info": {
      "name": "python"
    }
  },
  "cells": [
    {
      "cell_type": "markdown",
      "metadata": {
        "id": "view-in-github",
        "colab_type": "text"
      },
      "source": [
        "<a href=\"https://colab.research.google.com/github/markbasham/sudoku_AI_example/blob/main/sudoku.ipynb\" target=\"_parent\"><img src=\"https://colab.research.google.com/assets/colab-badge.svg\" alt=\"Open In Colab\"/></a>"
      ]
    },
    {
      "cell_type": "markdown",
      "source": [
        "# A brief overview of computing and AI\n",
        "## Dr Mark Basham"
      ],
      "metadata": {
        "id": "t9a2R9zZMKJw"
      }
    },
    {
      "cell_type": "code",
      "execution_count": 7,
      "metadata": {
        "id": "U5MqF3HcL8lg"
      },
      "outputs": [],
      "source": [
        "import numpy as np\n"
      ]
    },
    {
      "cell_type": "code",
      "source": [
        "class Grid(object):\n",
        "\n",
        "  def __init__(self):\n",
        "    self.grid_values = np.zeros((9,9))\n",
        "    self.grid_fixed = self.grid_values!=0\n",
        "\n",
        "  def make_grid(start_points={}):\n",
        "    pass\n",
        "\n",
        "  def display(self):\n",
        "    print(self.grid_values)\n",
        "    print(self.grid_fixed)"
      ],
      "metadata": {
        "id": "ww-amP6TMtRy"
      },
      "execution_count": 18,
      "outputs": []
    },
    {
      "cell_type": "code",
      "source": [
        "grid = Grid()\n",
        "grid.display()"
      ],
      "metadata": {
        "id": "jueGMl1kOFnv",
        "outputId": "03e2001f-3338-48ad-aefd-16dd78fd8ead",
        "colab": {
          "base_uri": "https://localhost:8080/"
        }
      },
      "execution_count": 19,
      "outputs": [
        {
          "output_type": "stream",
          "name": "stdout",
          "text": [
            "[[0. 0. 0. 0. 0. 0. 0. 0. 0.]\n",
            " [0. 0. 0. 0. 0. 0. 0. 0. 0.]\n",
            " [0. 0. 0. 0. 0. 0. 0. 0. 0.]\n",
            " [0. 0. 0. 0. 0. 0. 0. 0. 0.]\n",
            " [0. 0. 0. 0. 0. 0. 0. 0. 0.]\n",
            " [0. 0. 0. 0. 0. 0. 0. 0. 0.]\n",
            " [0. 0. 0. 0. 0. 0. 0. 0. 0.]\n",
            " [0. 0. 0. 0. 0. 0. 0. 0. 0.]\n",
            " [0. 0. 0. 0. 0. 0. 0. 0. 0.]]\n",
            "[[False False False False False False False False False]\n",
            " [False False False False False False False False False]\n",
            " [False False False False False False False False False]\n",
            " [False False False False False False False False False]\n",
            " [False False False False False False False False False]\n",
            " [False False False False False False False False False]\n",
            " [False False False False False False False False False]\n",
            " [False False False False False False False False False]\n",
            " [False False False False False False False False False]]\n"
          ]
        }
      ]
    }
  ]
}